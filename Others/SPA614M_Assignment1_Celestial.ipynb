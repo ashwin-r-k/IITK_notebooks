{
 "cells": [
  {
   "cell_type": "code",
   "execution_count": 1,
   "metadata": {},
   "outputs": [],
   "source": [
    "import numpy as np"
   ]
  },
  {
   "cell_type": "code",
   "execution_count": 2,
   "metadata": {},
   "outputs": [],
   "source": [
    "r1 = np.array([0.151601, 0.570209, 0.052802])\n",
    "r2 = np.array([0.146925, 0.570662, 0.053254])\n",
    "t1 = 0.105\n",
    "t2 = 0.413\n",
    "\n",
    "\n"
   ]
  },
  {
   "cell_type": "code",
   "execution_count": 3,
   "metadata": {},
   "outputs": [
    {
     "name": "stdout",
     "output_type": "stream",
     "text": [
      "[-0.01518182  0.00147078  0.00146753]\n"
     ]
    }
   ],
   "source": [
    "rdot = (r2-r1)/(t2-t1)\n",
    "print(rdot)"
   ]
  },
  {
   "cell_type": "code",
   "execution_count": 4,
   "metadata": {},
   "outputs": [],
   "source": [
    "def a(r,v,mu):\n",
    "    deno = 2/r-v**2/mu\n",
    "    return 1/deno\n",
    "\n",
    "def e(h,mu,a):\n",
    "    val = 1-h**2/(mu*a)\n",
    "    return np.sqrt(val)\n",
    "\n",
    "def modlen(r):\n",
    "    return np.sqrt(r[0]**2+r[1]**2+r[2]**2)\n",
    "\n",
    "def anglebetween(r1,r2):\n",
    "    return np.arccos(np.dot(r1,r2)/(modlen(r1)*modlen(r2)))\n",
    "\n",
    "def hvector(r,v):\n",
    "    return np.cross(r,v)\n",
    "\n",
    "def I (r,v):\n",
    "    h = hvector(r,v)\n",
    "    return np.arccos(h[2]/modlen(h))"
   ]
  },
  {
   "cell_type": "code",
   "execution_count": 5,
   "metadata": {},
   "outputs": [
    {
     "name": "stdout",
     "output_type": "stream",
     "text": [
      "a =  0.717525258575993\n",
      "e =  0.22525658291540024\n",
      "I deg =  8.169630822429713\n"
     ]
    }
   ],
   "source": [
    "\n",
    "r = modlen(r1)\n",
    "v = modlen(rdot)\n",
    "\n",
    "M1 = 3*10**(-6) #interms of solar mass\n",
    "m2=0    # mass of Sattelight.\n",
    "\n",
    "G = 4*np.pi**2\n",
    "mu = G*(M1+m2)\n",
    "\n",
    "ans_a = a(r,v,mu)\n",
    "print(\"a = \",ans_a)\n",
    "\n",
    "thetadot = anglebetween(r1,r2)/(t2-t1)\n",
    "h = pow(r,2)*thetadot\n",
    "\n",
    "ans_e = e(h,mu,ans_a)\n",
    "print(\"e = \",ans_e)\n",
    "\n",
    "ans_I = I(r1,rdot)\n",
    "#print(\"I = \", ans_I)\n",
    "\n",
    "print(\"I deg = \", ans_I*180/np.pi)  \n",
    "\n",
    "\n"
   ]
  },
  {
   "cell_type": "markdown",
   "metadata": {},
   "source": [
    "# Bellow is in SI Unites"
   ]
  },
  {
   "cell_type": "code",
   "execution_count": 17,
   "metadata": {},
   "outputs": [
    {
     "name": "stdout",
     "output_type": "stream",
     "text": [
      "[-72.21184447   6.99571547   6.98027239]\n"
     ]
    }
   ],
   "source": [
    "au = 1.5*10**11 #m\n",
    "year = 365*24*60*60\n",
    "\n",
    "r1 = np.array([0.151601, 0.570209, 0.052802]) * au\n",
    "r2 = np.array([0.146925, 0.570662, 0.053254]) * au\n",
    "t1 = 0.105 * year\n",
    "t2 = 0.413 * year\n",
    "\n",
    "rdot = (r2-r1)/(t2-t1)\n",
    "\n",
    "print(rdot)"
   ]
  },
  {
   "cell_type": "code",
   "execution_count": 21,
   "metadata": {},
   "outputs": [
    {
     "name": "stdout",
     "output_type": "stream",
     "text": [
      "88856386416.14343\n",
      "a = 108924491659.2496 m\n",
      "a = 0.7261632777283307 au\n"
     ]
    }
   ],
   "source": [
    "r = modlen(r1)\n",
    "print(r)\n",
    "v = modlen(rdot)\n",
    "\n",
    "M1 = 5.97219 * 10**24 #Mass of earth\n",
    "m2=0    # mass of Sattelight.\n",
    "\n",
    "G = 6.67408*10**(-11)\n",
    "mu = G*(M1+m2)\n",
    "\n",
    "def a(r,v,mu):\n",
    "    deno = 2/r-v**2/mu\n",
    "    return 1/deno\n",
    "\n",
    "ans_a = a(r,v,mu) \n",
    "print(f\"a = {ans_a} m\")\n",
    "print(f\"a = {ans_a/au} au\")\n",
    "\n"
   ]
  },
  {
   "cell_type": "code",
   "execution_count": 19,
   "metadata": {},
   "outputs": [
    {
     "name": "stdout",
     "output_type": "stream",
     "text": [
      "e =  0.23278521330154564\n"
     ]
    }
   ],
   "source": [
    "thetadot = anglebetween(r1,r2)/(t2-t1)\n",
    "h = pow(r,2)*thetadot\n",
    "\n",
    "ans_e = e(h,mu,ans_a)\n",
    "print(\"e = \",ans_e)"
   ]
  },
  {
   "cell_type": "code",
   "execution_count": 20,
   "metadata": {},
   "outputs": [
    {
     "name": "stdout",
     "output_type": "stream",
     "text": [
      "I deg =  8.169630822429758\n"
     ]
    }
   ],
   "source": [
    "ans_I = I(r1,rdot)\n",
    "#print(\"I = \", ans_I)\n",
    "\n",
    "print(\"I deg = \", ans_I*180/np.pi)  "
   ]
  },
  {
   "cell_type": "code",
   "execution_count": null,
   "metadata": {},
   "outputs": [],
   "source": []
  }
 ],
 "metadata": {
  "kernelspec": {
   "display_name": "physics",
   "language": "python",
   "name": "python3"
  },
  "language_info": {
   "codemirror_mode": {
    "name": "ipython",
    "version": 3
   },
   "file_extension": ".py",
   "mimetype": "text/x-python",
   "name": "python",
   "nbconvert_exporter": "python",
   "pygments_lexer": "ipython3",
   "version": "3.12.5"
  }
 },
 "nbformat": 4,
 "nbformat_minor": 2
}
