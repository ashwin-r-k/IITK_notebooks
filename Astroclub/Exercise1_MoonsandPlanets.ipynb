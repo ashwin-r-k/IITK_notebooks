{
  "cells": [
    {
      "cell_type": "markdown",
      "metadata": {
        "id": "AAHq7r2Gq07m"
      },
      "source": [
        "#### This Exercise uses Pandas as a Key Component. Check it here before proceeding : https://www.w3schools.com/python/pandas/default.asp"
      ]
    },
    {
      "cell_type": "code",
      "execution_count": 6,
      "metadata": {
        "colab": {
          "base_uri": "https://localhost:8080/",
          "height": 315
        },
        "id": "jMNFPQvUaEkN",
        "outputId": "8b4385c3-0314-40c7-aa2f-15b7355f8081"
      },
      "outputs": [],
      "source": [
        "# from google.colab import drive\n",
        "# drive.mount('/content/drive')\n",
        "# I am Running it locally, so I don't need to mount any drive"
      ]
    },
    {
      "cell_type": "markdown",
      "metadata": {
        "id": "FkQ3MtXhNXOf"
      },
      "source": [
        "You are encouraged to play around with this set of code. Try removing some of the functions and seeing why they have been used (remove the `split('\\n')` in the next cell and see why it is necessary)"
      ]
    },
    {
      "cell_type": "markdown",
      "metadata": {
        "id": "eIs_f7kSNXOf"
      },
      "source": [
        "import pandas as pd\n",
        "with open('mnist_test.csv', 'r') as f:\n",
        "    lines = f.read().split('\\n') # split each line\n",
        "    print(lines[:5])\n",
        "    data_moons = [] # Define an empty list. We will append our values to this\n",
        "for line in lines:\n",
        "    data_moons.append(line.split(',')) # split each element\n",
        "    data_moons[:5]"
      ]
    },
    {
      "cell_type": "code",
      "execution_count": null,
      "metadata": {
        "id": "yIZJSAZwmEh0"
      },
      "outputs": [
        {
          "name": "stdout",
          "output_type": "stream",
          "text": [
            "['# Name of Moon, Name of Planet, Diameter (km)', 'Moon,Earth,1737.1', 'Phobos,Mars,11.1', 'Deimos,Mars,6.2', 'Io,Jupiter,1818.1']\n"
          ]
        }
      ],
      "source": [
        "import pandas as pd\n",
        "with open('Moons_and_Planets.csv', 'r') as f:\n",
        "    lines = f.read().split('\\n') # split each line\n",
        "    print(lines[:5])\n",
        "    data_moons = [] # Define an empty list. We will append our values to this\n",
        "    \n",
        "for line in lines:\n",
        "    data_moons.append(line.split(',')) # split each element\n",
        "    data_moons[:5]"
      ]
    },
    {
      "cell_type": "code",
      "execution_count": 2,
      "metadata": {
        "id": "cQPMnBrfNXOg"
      },
      "outputs": [
        {
          "name": "stdout",
          "output_type": "stream",
          "text": [
            "['# Name of Moon, Name of Planet, Diameter (km)', 'Moon,Earth,1737.1', 'Phobos,Mars,11.1', 'Deimos,Mars,6.2', 'Io,Jupiter,1818.1']\n"
          ]
        }
      ],
      "source": [
        "print(lines[:5])"
      ]
    },
    {
      "cell_type": "code",
      "execution_count": 3,
      "metadata": {
        "id": "kqOLgdUGNXOh"
      },
      "outputs": [],
      "source": [
        "data_moons = [] # Define an empty list. We will append our values to this\n",
        "for line in lines:\n",
        "    data_moons.append(line.split(',')) # split each element"
      ]
    },
    {
      "cell_type": "code",
      "execution_count": 5,
      "metadata": {
        "id": "eihlhAS8NXOh"
      },
      "outputs": [
        {
          "data": {
            "text/plain": [
              "[['# Name of Moon', ' Name of Planet', ' Diameter (km)'],\n",
              " ['Moon', 'Earth', '1737.1'],\n",
              " ['Phobos', 'Mars', '11.1'],\n",
              " ['Deimos', 'Mars', '6.2'],\n",
              " ['Io', 'Jupiter', '1818.1'],\n",
              " ['Europa', 'Jupiter', '1560.7'],\n",
              " ['Ganymede', 'Jupiter', '2634.1'],\n",
              " ['Callisto', 'Jupiter', '2408.4'],\n",
              " ['Amalthea', 'Jupiter', '83.5'],\n",
              " ['Himalia', 'Jupiter', '67.0'],\n",
              " ['Elara', 'Jupiter', '43.0'],\n",
              " ['Pasiphae', 'Jupiter', '30.0'],\n",
              " ['Sinope', 'Jupiter', '19.0'],\n",
              " ['Lysithea', 'Jupiter', '18.0'],\n",
              " ['Carme', 'Jupiter', '23.0'],\n",
              " ['Ananke', 'Jupiter', '14.0'],\n",
              " ['Leda', 'Jupiter', '10.0'],\n",
              " ['Thebe', 'Jupiter', '49.3'],\n",
              " ['Adrastea', 'Jupiter', '8.2'],\n",
              " ['Metis', 'Jupiter', '21.5'],\n",
              " ['Callirrhoe', 'Jupiter', '4.3'],\n",
              " ['Themisto', 'Jupiter', '4.0'],\n",
              " ['Megaclite', 'Jupiter', '2.7'],\n",
              " ['Taygete', 'Jupiter', '2.5'],\n",
              " ['Chaldene', 'Jupiter', '1.9'],\n",
              " ['Harpalyke', 'Jupiter', '2.2'],\n",
              " ['Kalyke', 'Jupiter', '2.6'],\n",
              " ['Iocaste', 'Jupiter', '2.6'],\n",
              " ['Erinome', 'Jupiter', '1.6'],\n",
              " ['Isonoe', 'Jupiter', '1.9'],\n",
              " ['Praxidike', 'Jupiter', '3.4'],\n",
              " ['Autonoe', 'Jupiter', '2.0'],\n",
              " ['Thyone', 'Jupiter', '2.0'],\n",
              " ['Hermippe', 'Jupiter', '2.0'],\n",
              " ['Aitne', 'Jupiter', '1.5'],\n",
              " ['Eurydome', 'Jupiter', '1.5'],\n",
              " ['Euanthe', 'Jupiter', '1.5'],\n",
              " ['Euporie', 'Jupiter', '1.0'],\n",
              " ['Orthosie', 'Jupiter', '1.0'],\n",
              " ['Sponde', 'Jupiter', '1.0'],\n",
              " ['Kale', 'Jupiter', '1.0'],\n",
              " ['Pasithee', 'Jupiter', '1.0'],\n",
              " ['Hegemone', 'Jupiter', '1.5'],\n",
              " ['Mneme', 'Jupiter', '1.0'],\n",
              " ['Aoede', 'Jupiter', '2.0'],\n",
              " ['Thelxinoe', 'Jupiter', '1.0'],\n",
              " ['Arche', 'Jupiter', '1.5'],\n",
              " ['Kallichore', 'Jupiter', '1.0'],\n",
              " ['Helike', 'Jupiter', '2.0'],\n",
              " ['Carpo', 'Jupiter', '1.5']]"
            ]
          },
          "execution_count": 5,
          "metadata": {},
          "output_type": "execute_result"
        }
      ],
      "source": [
        "data_moons[:50]"
      ]
    },
    {
      "cell_type": "markdown",
      "metadata": {
        "id": "m3UhxR-JNXOh"
      },
      "source": [
        "As you can see, this is not perfect; the diameter of the moons has been appended as a `string`, instead of a `float`. <br>\n",
        "Fixing this is up to you! (*hint*: you can convert a string to a float using `float(<string>)`)\n",
        "\n",
        "You will have to use a loop to access each row (nested loops here), and use indexing to access the elements you want."
      ]
    },
    {
      "cell_type": "markdown",
      "metadata": {
        "id": "rNuAc8_ONXOi"
      },
      "source": [
        "### Your assignment...\n",
        "...should you choose to accept it, will be the following:\n",
        "1. Find the number of moons of each planet\n",
        "2. Order the moons (along with their planets) according to their sizes"
      ]
    },
    {
      "cell_type": "markdown",
      "metadata": {
        "id": "f7_P0g1wNXOi"
      },
      "source": [
        ":Try to verify these from the Wikipedia link that we took the data from."
      ]
    },
    {
      "cell_type": "markdown",
      "metadata": {},
      "source": [
        "Q1. Find the number of moons of each planet\n"
      ]
    },
    {
      "cell_type": "code",
      "execution_count": 13,
      "metadata": {},
      "outputs": [
        {
          "name": "stdout",
          "output_type": "stream",
          "text": [
            "dict_keys(['Earth', 'Mars', 'Jupiter', 'Saturn', 'Uranus', 'Neptune', 'Pluto'])\n",
            "The moons of Earth are: Moon\n",
            "The moons of Mars are: Phobos, Deimos\n",
            "The moons of Jupiter are: Io, Europa, Ganymede, Callisto, Amalthea, Himalia, Elara, Pasiphae, Sinope, Lysithea, Carme, Ananke, Leda, Thebe, Adrastea, Metis, Callirrhoe, Themisto, Megaclite, Taygete, Chaldene, Harpalyke, Kalyke, Iocaste, Erinome, Isonoe, Praxidike, Autonoe, Thyone, Hermippe, Aitne, Eurydome, Euanthe, Euporie, Orthosie, Sponde, Kale, Pasithee, Hegemone, Mneme, Aoede, Thelxinoe, Arche, Kallichore, Helike, Carpo, Eukelade, Cyllene, Kore, Herse, S/2010 J 1, S/2010 J 2, Dia, S/2016 J 1, S/2003 J 18, S/2011 J 2, Eirene, Philophrosyne, S/2017 J 1, Eupheme, S/2003 J 19, Valetudo, S/2017 J 2, S/2017 J 3, Pandia, S/2017 J 5, S/2017 J 6, S/2017 J 7, S/2017 J 8, S/2017 J 9, Ersa, S/2011 J 1, S/2003 J 2, S/2003 J 4, S/2003 J 9, S/2003 J 10, S/2003 J 12, S/2003 J 16, S/2003 J 23\n",
            "The moons of Saturn are: Mimas, Enceladus, Tethys, Dione, Rhea, Titan, Hyperion, Iapetus, Phoebe, Janus, Epimetheus, Helene, Telesto, Calypso, Atlas, Prometheus, Pandora, Pan, Ymir, Paaliaq, Tarvos, Ijiraq, Suttungr, Kiviuq, Mundilfari, Albiorix, Skathi, Erriapus, Siarnaq, Thrymr, Narvi, Methone, Pallene, Polydeuces, Daphnis, Aegir, Bebhionn, Bergelmir, Bestla, Farbauti, Fenrir, Fornjot, Hati, Hyrrokkin, Kari, Loge, Skoll, Surtur, Anthe, Jarnsaxa, Greip, Tarqeq, Aegaeon, S/2004 S 7, S/2004 S 12, S/2004 S 13, S/2004 S 17, S/2006 S 1, S/2006 S 3, S/2007 S 2, S/2007 S 3, S/2009 S 1, S/2004 S 20, S/2004 S 21, S/2004 S 22, S/2004 S 23, S/2004 S 24, S/2004 S 25, S/2004 S 26, S/2004 S 27, S/2004 S 28, S/2004 S 29, S/2004 S 30, S/2004 S 31, S/2004 S 32, S/2004 S 33, S/2004 S 34, S/2004 S 35, S/2004 S 36, S/2004 S 37, S/2004 S 38, S/2004 S 39\n",
            "The moons of Uranus are: Ariel, Umbriel, Titania, Oberon, Miranda, Cordelia, Ophelia, Bianca, Cressida, Desdemona, Juliet, Portia, Rosalind, Belinda, Puck, Caliban, Sycorax, Prospero, Setebos, Stephano, Trinculo, Francisco, Margaret, Ferdinand, Perdita, Mab, Cupid\n",
            "The moons of Neptune are: Triton, Nereid, Naiad, Thalassa, Despina, Galatea, Larissa, Proteus, Halimede, Psamathe, Sao, Laomedeia, Neso, Hippocamp\n",
            "The moons of Pluto are: Charon, Nix, Hydra, Kerberos, Styx\n",
            "The no of moons for Earth : 1\n",
            "The no of moons for Mars : 2\n",
            "The no of moons for Jupiter : 79\n",
            "The no of moons for Saturn : 82\n",
            "The no of moons for Uranus : 27\n",
            "The no of moons for Neptune : 14\n",
            "The no of moons for Pluto : 5\n"
          ]
        }
      ],
      "source": [
        "#Answer\n",
        "planets = {}\n",
        "\n",
        "for Data in data_moons[1:-1]:\n",
        "    if Data[1] not in planets.keys():\n",
        "        planets[Data[1]]  = [Data[0]]\n",
        "    else:\n",
        "        planets[Data[1]].append(Data[0])\n",
        "    \n",
        "print(planets.keys())\n",
        "\n",
        "for planet in planets.keys():\n",
        "    print(f\"The moons of {planet} are: {', '.join(planets[planet])}\")\n",
        "\n",
        "for planet in planets.keys():\n",
        "    print(f\"The no of moons for {planet} : {len(planets[planet])}\")\n"
      ]
    },
    {
      "cell_type": "markdown",
      "metadata": {},
      "source": [
        "Q2. Order the moons (along with their planets) according to their sizes"
      ]
    },
    {
      "cell_type": "code",
      "execution_count": null,
      "metadata": {},
      "outputs": [
        {
          "name": "stdout",
          "output_type": "stream",
          "text": [
            "    # Name of Moon  Name of Planet   Diameter (km)\n",
            "5         Ganymede         Jupiter         2634.10\n",
            "87           Titan          Saturn         2575.50\n",
            "6         Callisto         Jupiter         2408.40\n",
            "3               Io         Jupiter         1818.10\n",
            "0             Moon           Earth         1737.10\n",
            "..             ...             ...             ...\n",
            "58      S/2011 J 2         Jupiter            0.50\n",
            "77      S/2003 J 9         Jupiter            0.50\n",
            "54      S/2010 J 2         Jupiter            0.50\n",
            "134        Aegaeon          Saturn            0.33\n",
            "143     S/2009 S 1          Saturn            0.15\n",
            "\n",
            "[210 rows x 3 columns]\n"
          ]
        }
      ],
      "source": [
        "# importing as a pandas data frame\n",
        "\n",
        "df_moons = pd.read_csv('Moons_and_Planets.csv')\n",
        "#print(df_moons.head()) \n",
        "#print(df_moons.columns)  \n",
        "\n",
        "#sorting by diameter\n",
        "df_moons_sorted = df_moons.sort_values(by=' Diameter (km)', ascending=False)\n",
        "print(df_moons_sorted)"
      ]
    },
    {
      "cell_type": "code",
      "execution_count": null,
      "metadata": {},
      "outputs": [],
      "source": []
    }
  ],
  "metadata": {
    "colab": {
      "provenance": []
    },
    "kernelspec": {
      "display_name": "physics_env",
      "language": "python",
      "name": "python3"
    },
    "language_info": {
      "codemirror_mode": {
        "name": "ipython",
        "version": 3
      },
      "file_extension": ".py",
      "mimetype": "text/x-python",
      "name": "python",
      "nbconvert_exporter": "python",
      "pygments_lexer": "ipython3",
      "version": "3.10.16"
    }
  },
  "nbformat": 4,
  "nbformat_minor": 0
}
