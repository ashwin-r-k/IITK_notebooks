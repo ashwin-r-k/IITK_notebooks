{
  "nbformat": 4,
  "nbformat_minor": 0,
  "metadata": {
    "colab": {
      "provenance": [],
      "authorship_tag": "ABX9TyOWccgN6h6ExvLyCX2FOclr",
      "include_colab_link": true
    },
    "kernelspec": {
      "name": "python3",
      "display_name": "Python 3"
    },
    "language_info": {
      "name": "python"
    }
  },
  "cells": [
    {
      "cell_type": "markdown",
      "metadata": {
        "id": "view-in-github",
        "colab_type": "text"
      },
      "source": [
        "<a href=\"https://colab.research.google.com/github/ashwin-r-k/IITK_notebooks/blob/main/SPA622M_A1_Matrices.ipynb\" target=\"_parent\"><img src=\"https://colab.research.google.com/assets/colab-badge.svg\" alt=\"Open In Colab\"/></a>"
      ]
    },
    {
      "cell_type": "code",
      "source": [
        "#Importing the Libriries\n",
        "import sympy as sp"
      ],
      "metadata": {
        "id": "Ft4daAqlSnf0"
      },
      "execution_count": 39,
      "outputs": []
    },
    {
      "cell_type": "code",
      "execution_count": 40,
      "metadata": {
        "colab": {
          "base_uri": "https://localhost:8080/",
          "height": 0
        },
        "id": "E_dbZVJWMTav",
        "outputId": "cc1a4ed2-c9dc-4637-a594-853f24a3f76a"
      },
      "outputs": [
        {
          "output_type": "stream",
          "name": "stdout",
          "text": [
            "Inverse of matrix A:\n",
            "⎡1    -1    0  ⎤\n",
            "⎢              ⎥\n",
            "⎢-1  11/7  -1/7⎥\n",
            "⎢              ⎥\n",
            "⎣0   -1/7  2/7 ⎦\n",
            "\n",
            "Inverse of matrix B:\n",
            "⎡cos(x)  0  -sin(x)⎤\n",
            "⎢                  ⎥\n",
            "⎢  0     1     0   ⎥\n",
            "⎢                  ⎥\n",
            "⎣sin(x)  0  cos(x) ⎦\n"
          ]
        }
      ],
      "source": [
        "#Problem 2\n",
        "\n",
        "# Define the symbols\n",
        "x = sp.symbols('x')\n",
        "\n",
        "# Define matrix A\n",
        "A = sp.Matrix([\n",
        "    [3, 2, 1],\n",
        "    [2, 2, 1],\n",
        "    [1, 1, 4]\n",
        "])\n",
        "\n",
        "# Define matrix B\n",
        "B = sp.Matrix([\n",
        "    [sp.cos(x), 0, sp.sin(x)],\n",
        "    [0, 1, 0],\n",
        "    [-sp.sin(x), 0, sp.cos(x)]\n",
        "])\n",
        "\n",
        "# Calculate the inverse of matrix A\n",
        "A_inverse = A.inv()\n",
        "\n",
        "# Calculate the inverse of matrix B\n",
        "B_inverse = B.inv()\n",
        "\n",
        "# Print the inverses\n",
        "print(\"Inverse of matrix A:\")\n",
        "sp.pprint(A_inverse)\n",
        "print(\"\\nInverse of matrix B:\")\n",
        "sp.pprint(sp.simplify(B_inverse))\n"
      ]
    },
    {
      "cell_type": "code",
      "source": [
        "#Problem 3\n",
        "\n",
        "# Define variables\n",
        "x1, x2 = sp.symbols('x1 x2')\n",
        "\n",
        "# Writingequations\n",
        "eq1 = sp.Eq(x1 + 2*x2, 3)\n",
        "eq2 = sp.Eq(2*x1 + 4*x2, 6)\n",
        "\n",
        "ans = sp.solve((eq1, eq2), (x1, x2))\n",
        "\n",
        "print(ans)"
      ],
      "metadata": {
        "colab": {
          "base_uri": "https://localhost:8080/",
          "height": 0
        },
        "id": "RfoPgo4jMy_l",
        "outputId": "57b70cb7-e7f1-4ec5-acaf-7eef4b362629"
      },
      "execution_count": 41,
      "outputs": [
        {
          "output_type": "stream",
          "name": "stdout",
          "text": [
            "{x1: 3 - 2*x2}\n"
          ]
        }
      ]
    },
    {
      "cell_type": "code",
      "source": [
        "#Problem 5\n",
        "\n",
        "A = sp.Matrix([\n",
        "    [5, 1],\n",
        "    [1, 5]\n",
        "])\n",
        "\n",
        "B = sp.Matrix([\n",
        "    [1, 0, 1],\n",
        "    [0, 3, 2],\n",
        "    [0, 0, 2]\n",
        "])\n",
        "\n",
        "P_A, D_A = A.diagonalize()\n",
        "print(\"D(A) = \",)\n",
        "sp.pprint(D_A)\n",
        "\n",
        "P_B, D_B = B.diagonalize()\n",
        "print(\"\\nD(B) = \",)\n",
        "sp.pprint(D_B)"
      ],
      "metadata": {
        "colab": {
          "base_uri": "https://localhost:8080/",
          "height": 0
        },
        "id": "A6Tb2ea6Rpey",
        "outputId": "0ce3917f-7626-492e-8b15-b14adfe108c8"
      },
      "execution_count": 42,
      "outputs": [
        {
          "output_type": "stream",
          "name": "stdout",
          "text": [
            "D(A) = \n",
            "⎡4  0⎤\n",
            "⎢    ⎥\n",
            "⎣0  6⎦\n",
            "\n",
            "D(B) = \n",
            "⎡1  0  0⎤\n",
            "⎢       ⎥\n",
            "⎢0  2  0⎥\n",
            "⎢       ⎥\n",
            "⎣0  0  3⎦\n"
          ]
        }
      ]
    },
    {
      "cell_type": "code",
      "source": [
        "#Problem 6\n",
        "\n",
        "# Define T\n",
        "T = sp.Matrix([\n",
        "    [1, 0.1, 0],\n",
        "    [0.1, 1, 0],\n",
        "    [0, 0, 1]\n",
        "])\n",
        "\n",
        "A = sp.Matrix([100, 200, 0])\n",
        "B = sp.Matrix([300, 400, 0])\n",
        "\n",
        "#Transformation\n",
        "print(\"Transformed A = \")\n",
        "sp.pprint(T*A)\n",
        "\n",
        "print(\"\\nTransformed B = \")\n",
        "sp.pprint(T*B)\n",
        "\n"
      ],
      "metadata": {
        "colab": {
          "base_uri": "https://localhost:8080/",
          "height": 0
        },
        "id": "JOusGuY7Vyfu",
        "outputId": "aa77394e-7750-404d-ce22-ba522bf078fc"
      },
      "execution_count": 43,
      "outputs": [
        {
          "output_type": "stream",
          "name": "stdout",
          "text": [
            "Transformed A = \n",
            "⎡120.0⎤\n",
            "⎢     ⎥\n",
            "⎢210.0⎥\n",
            "⎢     ⎥\n",
            "⎣  0  ⎦\n",
            "\n",
            "Transformed B = \n",
            "⎡340.0⎤\n",
            "⎢     ⎥\n",
            "⎢430.0⎥\n",
            "⎢     ⎥\n",
            "⎣  0  ⎦\n"
          ]
        }
      ]
    },
    {
      "cell_type": "code",
      "source": [
        "#Problem 7\n",
        "\n",
        "# Define the matrix A\n",
        "A = sp.Matrix([\n",
        "    [-4, 2],\n",
        "    [2, -3]\n",
        "])\n",
        "\n",
        "# Compute eigenvalues and eigenvectors\n",
        "eigenvals = A.eigenvals()\n",
        "eigenvects = A.eigenvects()\n",
        "\n",
        "for eigenvalue, m, eigenvectors in eigenvects:\n",
        "    print(\"\\nEigenvalue\")\n",
        "    sp.pprint(eigenvalue)\n",
        "    print(f\"Aproximitely : {eigenvalue.evalf()}\")\n",
        "\n",
        "    for eigenvector in eigenvectors:\n",
        "        print(\"Eigenvector\")\n",
        "        sp.pprint(eigenvector)\n",
        "        print(f\"Aproximitely :\")\n",
        "        sp.pprint(eigenvector.evalf())\n"
      ],
      "metadata": {
        "colab": {
          "base_uri": "https://localhost:8080/",
          "height": 0
        },
        "id": "wFXWL79kYNM3",
        "outputId": "a3cc0e19-fb61-4766-91cb-06e3de6bd83c"
      },
      "execution_count": 44,
      "outputs": [
        {
          "output_type": "stream",
          "name": "stdout",
          "text": [
            "\n",
            "Eigenvalue\n",
            "  7   √17\n",
            "- ─ - ───\n",
            "  2    2 \n",
            "Aproximitely : -5.56155281280883\n",
            "Eigenvector\n",
            "⎡  √17   1⎤\n",
            "⎢- ─── - ─⎥\n",
            "⎢   4    4⎥\n",
            "⎢         ⎥\n",
            "⎣    1    ⎦\n",
            "Aproximitely :\n",
            "⎡-1.28077640640442⎤\n",
            "⎢                 ⎥\n",
            "⎣       1.0       ⎦\n",
            "\n",
            "Eigenvalue\n",
            "  7   √17\n",
            "- ─ + ───\n",
            "  2    2 \n",
            "Aproximitely : -1.43844718719117\n",
            "Eigenvector\n",
            "⎡  1   √17⎤\n",
            "⎢- ─ + ───⎥\n",
            "⎢  4    4 ⎥\n",
            "⎢         ⎥\n",
            "⎣    1    ⎦\n",
            "Aproximitely :\n",
            "⎡0.780776406404415⎤\n",
            "⎢                 ⎥\n",
            "⎣       1.0       ⎦\n"
          ]
        }
      ]
    },
    {
      "cell_type": "code",
      "source": [],
      "metadata": {
        "id": "nmPu2l0oc3xp"
      },
      "execution_count": null,
      "outputs": []
    }
  ]
}