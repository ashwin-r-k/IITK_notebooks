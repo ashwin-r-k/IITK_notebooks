{
 "cells": [
  {
   "cell_type": "markdown",
   "metadata": {},
   "source": [
    "# Assignment Solution for SPA623M\n",
    "\n",
    "**Name : Ashwin**\n",
    "\n",
    "**Roll no: 241310004**"
   ]
  },
  {
   "cell_type": "markdown",
   "metadata": {},
   "source": [
    "## Q 1. Derive the Simpson 3/8 rule by integrating the interpolating polynomials."
   ]
  },
  {
   "cell_type": "code",
   "execution_count": 1,
   "metadata": {},
   "outputs": [
    {
     "data": {
      "text/latex": [
       "$\\displaystyle \\frac{3 h \\left(f_{0} + 3 f_{1} + 3 f_{2} + f_{3}\\right)}{8}$"
      ],
      "text/plain": [
       "3*h*(f0 + 3*f1 + 3*f2 + f3)/8"
      ]
     },
     "execution_count": 1,
     "metadata": {},
     "output_type": "execute_result"
    }
   ],
   "source": [
    "import sympy as sp\n",
    "\n",
    "x = sp.symbols('x')\n",
    "a, h = sp.symbols('a h')\n",
    "\n",
    "x0 = a\n",
    "x1 = a + h\n",
    "x2 = a + 2*h\n",
    "x3 = a + 3*h\n",
    "\n",
    "xarr = [x0, x1, x2, x3]\n",
    "\n",
    "f0, f1, f2, f3 = sp.symbols('f0 f1 f2 f3')\n",
    "\n",
    "def L(x,xarr,i):\n",
    "    return sp.prod([(x - xarr[j]) / (xarr[i] - xarr[j]) for j in range(len(xarr)) if j != i])\n",
    "\n",
    "P3 = f0*L(x,xarr,0) + f1*L(x,xarr,1)  + f2*L(x,xarr,2)  + f3*L(x,xarr,3) \n",
    "\n",
    "integral = sp.integrate(P3, (x, x0, x3))\n",
    "integral = sp.simplify(integral)\n",
    "\n",
    "integral\n"
   ]
  },
  {
   "cell_type": "markdown",
   "metadata": {},
   "source": [
    "## Q2. Using mid-point rule, trapezoid rules and Simpson 1/3 rule, show, compute the convergence rate, and compute with the actual values.\n",
    "\n",
    "\n"
   ]
  },
  {
   "cell_type": "markdown",
   "metadata": {},
   "source": [
    "## ANS \n",
    "\n",
    "**Mid-point Rule**\n",
    "\n",
    "$$ M_n = \\sum_{i=1}^{n} f(m_i) \\Delta x $$\n",
    "\n",
    "\n",
    "**Trapezoid Rule**\n",
    "\n",
    "$$ \\int_a^b f(x) dx \\approx \\sum_{i=0}^{n-1} h \\frac{f(x_i) + f(x_{i+1})}{2} $$\n",
    "  \n",
    "**Simpson 1/3 rule**\n",
    "\n",
    "$$ \\int_a^b f(x) \\, dx \\approx \\frac{b - a}{6} \\left( f(a) + 4f\\left( \\frac{a + b}{2} \\right) + f(b) \\right) $$\n",
    "\n",
    "\n"
   ]
  },
  {
   "cell_type": "code",
   "execution_count": 2,
   "metadata": {},
   "outputs": [],
   "source": [
    "import numpy as np\n",
    "import matplotlib.pyplot as plt\n",
    "from scipy.integrate import quad\n",
    "import sympy as sp\n",
    "\n",
    "def Simpson_3rule_i(f,initial):\n",
    "    [a,b,_] = initial\n",
    "    h = (b-a)/2\n",
    "    x = [a,a+h,b]\n",
    "    ans = h/3*(f(x[0]) + 4*f(x[1]) + f(x[2]))\n",
    "    return ans\n",
    "\n",
    "def Simpson_3rule(f,initial):\n",
    "    [a,b,n] = initial\n",
    "    h = (b-a)/n\n",
    "    x = np.linspace(a,b,n+1)\n",
    "    sum = 0\n",
    "    for i in range(0,len(x)-1,2):\n",
    "        try :\n",
    "            sum = sum + Simpson_3rule_i(f,[x[i],x[i+2],n])\n",
    "        except:\n",
    "            print(f\"Error at x = {x[i]} but contuining\")\n",
    "\n",
    "    return sum\n",
    "\n",
    "\n",
    "def Midpoint_rule(f,initial):\n",
    "    [a,b,n] = initial\n",
    "    x = np.linspace(a,b,n+1)\n",
    "    #print(x)\n",
    "    h = (b-a)/n\n",
    "    sum = 0\n",
    "    for i in range(len(x)-1):\n",
    "        mi = (x[i]+x[i+1])/2\n",
    "        #print(mi)\n",
    "        sum = sum + f(mi) * h\n",
    "    return sum\n",
    "\n",
    "def Trapezoid_rule(f,initial):\n",
    "    [a,b,n] = initial\n",
    "    h = (b-a)/n\n",
    "    \n",
    "    x = np.linspace(a,b,n+1)\n",
    "    #print(x)\n",
    "    \n",
    "    sum = 0\n",
    "    for i in range(n):\n",
    "        sum = sum + h * (f(x[i])+f(x[i+1]))/2\n",
    "        #print(x[i])\n",
    "    return sum\n",
    "\n",
    "def Composit_Simpson_rule(f,initial):\n",
    "    [a,b,n] = initial\n",
    "    \n",
    "    S1 = f(a)\n",
    "    \n",
    "    S2 = 0\n",
    "    h = (b-a)/n\n",
    "    for i in range(1,n,2):\n",
    "        x = a + i*h\n",
    "        #print(f\"S2 n = {i} x = {x}\")\n",
    "        S2 = S2 + f(x)\n",
    "    S2 = 4 * S2\n",
    "\n",
    "    S3 = 0\n",
    "    for i in range(2,n-1,2):\n",
    "        x = a + i*h\n",
    "        #print(f\"S3 n = {i} x = {x}\")\n",
    "        S3 = S3 + f(x)\n",
    "    S3 = 2*S3\n",
    "\n",
    "    S4 = f(b)\n",
    "    \n",
    "    #print(S1)\n",
    "    #print(S4)\n",
    "\n",
    "    return h/3*(S1 + S2 + S3 + S4)\n",
    "\n",
    "def convergence_rate(f,initial, rule, exact_value, max_n=100):\n",
    "    [a,b,_] = initial\n",
    "    errors = []\n",
    "    intervals = []\n",
    "    for nc in range(2, max_n+1):\n",
    "        approx = rule(f, [a,b,nc])\n",
    "        error = abs(approx - exact_value)\n",
    "        errors.append(error)\n",
    "        intervals.append(nc)\n",
    "    return intervals, errors\n",
    "\n",
    "def plot_convergence(intervals, errors,label):\n",
    "    plt.plot(intervals, errors, label=label)\n",
    "    #plt.yscale('log')\n",
    "    #plt.xscale('log')\n"
   ]
  },
  {
   "cell_type": "code",
   "execution_count": 3,
   "metadata": {},
   "outputs": [],
   "source": [
    "import numpy as np\n",
    "import matplotlib.pyplot as plt\n",
    "from scipy.integrate import quad\n",
    "import sympy as sp\n",
    "\n",
    "# Modified Definations with Error Handaling\n",
    "\n",
    "def Midpoint_rule(f,initial):\n",
    "    [a,b,n] = initial\n",
    "    x = np.linspace(a,b,n+1)\n",
    "    #print(x)\n",
    "    h = (b-a)/n\n",
    "    sum = 0\n",
    "    for i in range(len(x)-1):\n",
    "        mi = (x[i]+x[i+1])/2\n",
    "        #print(mi)\n",
    "        try :\n",
    "            sum = sum + f(mi) * h\n",
    "        except:\n",
    "            print(f\"Error at {mi} but continuing\")\n",
    "    return sum\n",
    "\n",
    "def Trapezoid_rule(f,initial):\n",
    "    [a,b,n] = initial\n",
    "    h = (b-a)/n\n",
    "\n",
    "    # To handele the case when a = 0\n",
    "    if a == 0:\n",
    "        h = (b-a)/n\n",
    "        a = h\n",
    "        n = n-1\n",
    "    \n",
    "    x = np.linspace(a,b,n+1)\n",
    "    #print(x)\n",
    "    \n",
    "    sum = 0\n",
    "    for i in range(n):\n",
    "        try :\n",
    "            sum = sum + h * (f(x[i])+f(x[i+1]))/2\n",
    "        except:\n",
    "            print(f\"Error at {x[i]} but continuing\")\n",
    "    \n",
    "        #print(x[i])\n",
    "    return sum\n",
    "\n",
    "def Simpson_3rule_i(f,initial):\n",
    "    [a,b,_] = initial\n",
    "    h = (b-a)/2\n",
    "    x = [a ,(a+b)/2 ,b]\n",
    "    ans = (b-a)/6*(f(x[0]) + 4*f(x[1]) + f(x[2]))\n",
    "    return ans\n",
    "\n",
    "def Simpson_3rule(f,initial):\n",
    "    [a,b,n] = initial\n",
    "    h = (b-a)/n\n",
    "    x = np.linspace(a,b,n+1)\n",
    "    sum = 0\n",
    "    for i in range(0,len(x)-2,2):\n",
    "        sum = sum + Simpson_3rule_i(f,[x[i],x[i+2],2])\n",
    "        # try :\n",
    "        #     sum = sum + Simpson_3rule_i(f,[x[i],x[i+2],2])\n",
    "        # except:\n",
    "        #     print(f\"Error at x = {x[i]} but contuining\")\n",
    "\n",
    "    return sum\n",
    "\n",
    "\n",
    "\n",
    "def convergence_rate(f,initial, rule, exact_value, max_n=100):\n",
    "    [a,b,_] = initial\n",
    "    errors = []\n",
    "    intervals = []\n",
    "    for nc in range(2, max_n+1,2):\n",
    "        approx = rule(f, [a,b,nc])\n",
    "        error = abs(approx - exact_value)\n",
    "        errors.append(error)\n",
    "        intervals.append(nc)\n",
    "    return intervals, errors\n",
    "\n",
    "def plot_convergence(intervals, errors,label):\n",
    "    plt.plot(intervals, errors, label=label)\n",
    "    #plt.yscale('log')\n",
    "    #plt.xscale('log')\n",
    "\n",
    "\n",
    "def Simpson_3rule_i(f, a, b):\n",
    "    h = (b - a) / 2\n",
    "    x = [a, (a + b) / 2, b]\n",
    "    ans = (b - a) / 6 * (f(x[0]) + 4 * f(x[1]) + f(x[2]))\n",
    "    return ans\n",
    "\n",
    "def Simpson_3rule(f, initial):\n",
    "    [a, b, n] = initial\n",
    "\n",
    "    if n % 2 != 0:\n",
    "        raise ValueError(\"n must be even for Simpson's 1/3 rule\")\n",
    "    \n",
    "    h = (b - a) / n\n",
    "    x = np.linspace(a, b, n + 1)\n",
    "    sum = 0\n",
    "    \n",
    "    for i in range(0, len(x) - 1, 2):\n",
    "        try:\n",
    "            sum = sum + Simpson_3rule_i(f, x[i], x[i + 2])\n",
    "        except Exception as e:\n",
    "            print(f\"Error at x = {x[i]} but continuing\")\n",
    "            print(e)\n",
    "\n",
    "\n",
    "    return sum\n",
    "\n",
    "\n"
   ]
  },
  {
   "cell_type": "markdown",
   "metadata": {},
   "source": [
    "### 1.$$ I_1 = \\int_0^1 x^x \\, dx \\approx 0.783430510712 $$\n"
   ]
  },
  {
   "cell_type": "code",
   "execution_count": 4,
   "metadata": {},
   "outputs": [
    {
     "name": "stdout",
     "output_type": "stream",
     "text": [
      "True Value : 0.783430510712\n",
      "Midpoint rule : 0.783430510711 ; with Truncation error : 9.999778782798785e-13\n",
      "Trapezoid rule : 0.78342951072 ; with Truncation error : 9.999919999836848e-07\n",
      "Simpson 1/3 rule : 0.783430510712 ; with Truncation error : 0.0\n"
     ]
    }
   ],
   "source": [
    "\n",
    "f = lambda x: pow(x,x)\n",
    "\n",
    "a ,b ,n = 0, 1, 1000000\n",
    "initial = [a,b,n]\n",
    "\n",
    "ans_midpoint = round( Midpoint_rule(f,initial),12)\n",
    "ans_trapezoid = round( Trapezoid_rule(f,initial),12)\n",
    "ans_simpson = round( Simpson_3rule(f,initial),12)\n",
    "\n",
    "ans_quad = round(quad(f, a, b)[0],12)\n",
    "\n",
    "print(f\"True Value : {ans_quad}\")\n",
    "\n",
    "print(f\"Midpoint rule : {ans_midpoint} ; with Truncation error : {abs(ans_midpoint - ans_quad)}\")\n",
    "print(f\"Trapezoid rule : {ans_trapezoid} ; with Truncation error : {abs(ans_trapezoid - ans_quad)}\")\n",
    "print(f\"Simpson 1/3 rule : {ans_simpson} ; with Truncation error : {abs(ans_simpson - ans_quad)}\")\n"
   ]
  },
  {
   "cell_type": "code",
   "execution_count": 5,
   "metadata": {},
   "outputs": [
    {
     "data": {
      "image/png": "[encoded data removed]",
      "text/plain": [
       "<Figure size 640x480 with 1 Axes>"
      ]
     },
     "metadata": {},
     "output_type": "display_data"
    }
   ],
   "source": [
    "\n",
    "plt.figure()\n",
    "x = sp.symbols('x')\n",
    "f_expr = x ** x\n",
    "f_latex = sp.latex(f_expr)\n",
    "\n",
    "plt.title(f'Convergence rate of ${f_latex}$')\n",
    "\n",
    "intervals, errors = convergence_rate(f,initial, Midpoint_rule, ans_quad, max_n=100)\n",
    "plot_convergence(intervals, errors,\"Midpoint rule\")\n",
    "\n",
    "intervals, errors = convergence_rate(f,initial, Trapezoid_rule, ans_quad, max_n=100)\n",
    "plot_convergence(intervals, errors,\"Trapezoid rule\")\n",
    "\n",
    "intervals, errors = convergence_rate(f,initial, Simpson_3rule, ans_quad, max_n=100)\n",
    "plot_convergence(intervals, errors,\"Simpson 1/3 rule\")\n",
    "\n",
    "plt.xlabel('n [Intervals]')\n",
    "plt.ylabel('Absolute Error')\n",
    "plt.legend()\n",
    "plt.show()\n"
   ]
  },
  {
   "cell_type": "markdown",
   "metadata": {},
   "source": [
    "\n",
    "### 2.$$ I_2 = \\int_0^1 \\ln\\left(\\frac{1}{x}\\right) \\sin(x) \\, dx \\approx 0.239811742001 $$\n",
    "\n"
   ]
  },
  {
   "cell_type": "code",
   "execution_count": 6,
   "metadata": {},
   "outputs": [
    {
     "name": "stdout",
     "output_type": "stream",
     "text": [
      "True Value : 0.239811742001\n",
      "Midpoint rule : 0.241660705214 ; with Truncation error : 0.0018489632129999878\n",
      "Trapezoid rule : 0.224042985566 ; with Truncation error : 0.015768756435000003\n",
      "Simpson 1/3 rule : nan ; with Truncation error : nan\n"
     ]
    },
    {
     "name": "stderr",
     "output_type": "stream",
     "text": [
      "/tmp/ipykernel_20317/2398067075.py:1: RuntimeWarning: divide by zero encountered in scalar power\n",
      "  f = lambda x: np.log(pow(x,-1))*np.sin(x)\n",
      "/tmp/ipykernel_20317/2398067075.py:1: RuntimeWarning: invalid value encountered in scalar multiply\n",
      "  f = lambda x: np.log(pow(x,-1))*np.sin(x)\n"
     ]
    }
   ],
   "source": [
    "\n",
    "f = lambda x: np.log(pow(x,-1))*np.sin(x)\n",
    "\n",
    "a ,b ,n = 0, 1, 10\n",
    "initial = [a,b,n]\n",
    "\n",
    "ans_quad = round(quad(f, a, b)[0],12)\n",
    "print(f\"True Value : {ans_quad}\")\n",
    "\n",
    "ans_midpoint = round( Midpoint_rule(f,initial),12)\n",
    "ans_trapezoid = round( Trapezoid_rule(f,initial),12)\n",
    "ans_simpson = round( Simpson_3rule(f,initial),12)\n",
    "\n",
    "\n",
    "\n",
    "print(f\"Midpoint rule : {ans_midpoint} ; with Truncation error : {abs(ans_midpoint - ans_quad)}\")\n",
    "print(f\"Trapezoid rule : {ans_trapezoid} ; with Truncation error : {abs(ans_trapezoid - ans_quad)}\")\n",
    "print(f\"Simpson 1/3 rule : {ans_simpson} ; with Truncation error : {abs(ans_simpson - ans_quad)}\")\n",
    "\n",
    "\n",
    "\n"
   ]
  },
  {
   "cell_type": "code",
   "execution_count": 7,
   "metadata": {},
   "outputs": [
    {
     "name": "stderr",
     "output_type": "stream",
     "text": [
      "/tmp/ipykernel_20317/2398067075.py:1: RuntimeWarning: divide by zero encountered in scalar power\n",
      "  f = lambda x: np.log(pow(x,-1))*np.sin(x)\n",
      "/tmp/ipykernel_20317/2398067075.py:1: RuntimeWarning: invalid value encountered in scalar multiply\n",
      "  f = lambda x: np.log(pow(x,-1))*np.sin(x)\n"
     ]
    },
    {
     "data": {
      "image/png": "[encoded data removed]",
      "text/plain": [
       "<Figure size 640x480 with 1 Axes>"
      ]
     },
     "metadata": {},
     "output_type": "display_data"
    }
   ],
   "source": [
    "x = sp.symbols('x')\n",
    "f_expr = sp.log(x**-1)*sp.sin(x)\n",
    "f_latex = sp.latex(f_expr)\n",
    "\n",
    "plt.title(f'Convergence rate of ${f_latex}$')\n",
    "\n",
    "intervals, errors = convergence_rate(f,initial, Midpoint_rule, ans_quad, max_n=100)\n",
    "plot_convergence(intervals, errors,\"Midpoint rule\")\n",
    "\n",
    "intervals, errors = convergence_rate(f,initial, Trapezoid_rule, ans_quad, max_n=100)\n",
    "plot_convergence(intervals, errors,\"Trapezoid rule\")\n",
    "\n",
    "intervals, errors = convergence_rate(f,initial, Simpson_3rule, ans_quad, max_n=100)\n",
    "plot_convergence(intervals, errors,\"Simpson 1/3 rule\")\n",
    "\n",
    "\n",
    "plt.xlabel('n [Intervals]')\n",
    "plt.ylabel('Absolute Error')\n",
    "plt.legend()\n",
    "plt.show()\n"
   ]
  },
  {
   "cell_type": "markdown",
   "metadata": {},
   "source": [
    "### 3. $$ I_3 = \\int_0^1 x^5 e^{-2x} \\, dx = \\frac{1-3e^{-2}}{12} \\approx 0.049499512524 $$\n"
   ]
  },
  {
   "cell_type": "code",
   "execution_count": 8,
   "metadata": {},
   "outputs": [
    {
     "name": "stdout",
     "output_type": "stream",
     "text": [
      "True Value : 0.049499512524\n",
      "True Value Anylatical : 0.049499512524\n",
      "Midpoint rule : 0.049499512524 ; with Truncation error : 0.0\n",
      "Trapezoid rule : 0.049499512524 ; with Truncation error : 0.0\n",
      "Simpson 1/3 rule : 0.049499512524 ; with Truncation error : 0.0\n"
     ]
    }
   ],
   "source": [
    "\n",
    "f = lambda x: pow(x,5)* pow(np.e,-2*pow(x,3))\n",
    "\n",
    "a ,b ,n = 0, 1, 1000000\n",
    "initial = [a,b,n]\n",
    "\n",
    "ans_quad = round(quad(f, a, b)[0],12)\n",
    "print(f\"True Value : {ans_quad}\")\n",
    "\n",
    "print(f\"True Value Anylatical : {round((1-3*np.e**-2)/12,12)}\")\n",
    "\n",
    "\n",
    "ans_midpoint = round( Midpoint_rule(f,initial),12)\n",
    "ans_trapezoid = round( Trapezoid_rule(f,initial),12)\n",
    "ans_simpson = round( Simpson_3rule(f,initial),12)\n",
    "\n",
    "\n",
    "\n",
    "print(f\"Midpoint rule : {ans_midpoint} ; with Truncation error : {abs(ans_midpoint - ans_quad)}\")\n",
    "print(f\"Trapezoid rule : {ans_trapezoid} ; with Truncation error : {abs(ans_trapezoid - ans_quad)}\")\n",
    "print(f\"Simpson 1/3 rule : {ans_simpson} ; with Truncation error : {abs(ans_simpson - ans_quad)}\")"
   ]
  },
  {
   "cell_type": "code",
   "execution_count": 9,
   "metadata": {},
   "outputs": [
    {
     "data": {
      "text/latex": [
       "$\\displaystyle \\frac{1}{12} - \\frac{1}{4 e^{2}}$"
      ],
      "text/plain": [
       "1/12 - exp(-2)/4"
      ]
     },
     "execution_count": 9,
     "metadata": {},
     "output_type": "execute_result"
    }
   ],
   "source": [
    "# solved using Sympy\n",
    "\n",
    "x = sp.Symbol('x')\n",
    "f_expr = x**5 * sp.exp(-2*x**3)\n",
    "\n",
    "I3 = sp.integrate(f_expr, (x, 0, 1))\n",
    "I3"
   ]
  },
  {
   "cell_type": "code",
   "execution_count": 10,
   "metadata": {},
   "outputs": [
    {
     "data": {
      "image/png": "[encoded data removed]",
      "text/plain": [
       "<Figure size 640x480 with 1 Axes>"
      ]
     },
     "metadata": {},
     "output_type": "display_data"
    }
   ],
   "source": [
    "x = sp.symbols('x')\n",
    "f_expr = x**5 * sp.exp(-2*x**3)\n",
    "f_latex = sp.latex(f_expr)\n",
    "\n",
    "plt.title(f'Convergence rate of ${f_latex}$')\n",
    "\n",
    "intervals, errors = convergence_rate(f,initial, Midpoint_rule, ans_quad, max_n=100)\n",
    "plot_convergence(intervals, errors,\"Midpoint rule\")\n",
    "\n",
    "intervals, errors = convergence_rate(f,initial, Trapezoid_rule, ans_quad, max_n=100)\n",
    "plot_convergence(intervals, errors,\"Trapezoid rule\")\n",
    "\n",
    "intervals, errors = convergence_rate(f,initial, Simpson_3rule, ans_quad, max_n=100)\n",
    "plot_convergence(intervals, errors,\"Simpson 1/3 rule\")\n",
    "\n",
    "\n",
    "plt.xlabel('n [Intervals]')\n",
    "plt.ylabel('Absolute Error')\n",
    "plt.legend()\n",
    "plt.show()\n"
   ]
  },
  {
   "cell_type": "markdown",
   "metadata": {},
   "source": [
    "\n",
    "### 4. $$ I_4 = \\int_0^1 \\left( x - \\frac{x^3}{3!} + \\frac{x^5}{5!} \\right) dx = \\frac{1}{2} - \\frac{1}{4!} + \\frac{1}{6!}  \\approx 0.459722222222 $$ "
   ]
  },
  {
   "cell_type": "code",
   "execution_count": 11,
   "metadata": {},
   "outputs": [
    {
     "name": "stdout",
     "output_type": "stream",
     "text": [
      "331/720\n",
      "True Value : 0.459722222222\n",
      "True Value Anylatical : 0.459722222222\n",
      "Midpoint rule : 0.459722222222 ; with Truncation error : 0.0\n",
      "Trapezoid rule : 0.459722222222 ; with Truncation error : 0.0\n",
      "Simpson 1/3 rule : 0.459722222222 ; with Truncation error : 0.0\n"
     ]
    }
   ],
   "source": [
    "def fac(n):\n",
    "    if n == 0:\n",
    "        return 1\n",
    "    else:\n",
    "        return n * fac(n-1)\n",
    "\n",
    "import sympy as sp\n",
    "x = sp.symbols('x')\n",
    "sp_f = x - x**3 / sp.factorial(3) + x**5 / sp.factorial(5)\n",
    "I4 = sp.integrate(sp_f, (x, 0, 1))\n",
    "\n",
    "print(I4)\n",
    "\n",
    "f = lambda x: x-x**3/fac(3) + x**5/fac(5)\n",
    "\n",
    "a ,b ,n = 0, 1, 1000000\n",
    "initial = [a,b,n]\n",
    "\n",
    "ans_quad = round(quad(f, a, b)[0],12)\n",
    "print(f\"True Value : {ans_quad}\")\n",
    "\n",
    "print(f\"True Value Anylatical : {round(  1/2-1/fac(4)+1/fac(6) ,12)}\")\n",
    "\n",
    "\n",
    "ans_midpoint = round( Midpoint_rule(f,initial),12)\n",
    "ans_trapezoid = round( Trapezoid_rule(f,initial),12)\n",
    "ans_simpson = round( Simpson_3rule(f,initial),12)\n",
    "\n",
    "\n",
    "\n",
    "print(f\"Midpoint rule : {ans_midpoint} ; with Truncation error : {abs(ans_midpoint - ans_quad)}\")\n",
    "print(f\"Trapezoid rule : {ans_trapezoid} ; with Truncation error : {abs(ans_trapezoid - ans_quad)}\")\n",
    "print(f\"Simpson 1/3 rule : {ans_simpson} ; with Truncation error : {abs(ans_simpson - ans_quad)}\")"
   ]
  },
  {
   "cell_type": "code",
   "execution_count": 12,
   "metadata": {},
   "outputs": [
    {
     "data": {
      "image/png": "[encoded data removed]",
      "text/plain": [
       "<Figure size 640x480 with 1 Axes>"
      ]
     },
     "metadata": {},
     "output_type": "display_data"
    }
   ],
   "source": [
    "x = sp.symbols('x')\n",
    "f_expr = x - x**3 / sp.factorial(3) + x**5 / sp.factorial(5)\n",
    "f_latex = sp.latex(f_expr)\n",
    "\n",
    "plt.title(f'Convergence rate of ${f_latex}$')\n",
    "\n",
    "intervals, errors = convergence_rate(f,initial, Midpoint_rule, ans_quad, max_n=100)\n",
    "plot_convergence(intervals, errors,\"Midpoint rule\")\n",
    "\n",
    "intervals, errors = convergence_rate(f,initial, Trapezoid_rule, ans_quad, max_n=100)\n",
    "plot_convergence(intervals, errors,\"Trapezoid rule\")\n",
    "\n",
    "intervals, errors = convergence_rate(f,initial, Simpson_3rule, ans_quad, max_n=100)\n",
    "plot_convergence(intervals, errors,\"Simpson 1/3 rule\")\n",
    "\n",
    "\n",
    "plt.xlabel('n [Intervals]')\n",
    "plt.ylabel('Absolute Error')\n",
    "plt.legend()\n",
    "plt.show()"
   ]
  },
  {
   "cell_type": "markdown",
   "metadata": {},
   "source": [
    "## 3. Find the total arc length and the area of the ellipse $ x^2 + \\frac{y^2}{9} = 1 $, both analytically and numerically."
   ]
  },
  {
   "cell_type": "code",
   "execution_count": 13,
   "metadata": {},
   "outputs": [
    {
     "name": "stdout",
     "output_type": "stream",
     "text": [
      "Area of  Eq(x**2 + y**2/9, 1) Ellipse  = 9.424777960770 \n",
      "Arc Length of  Eq(x**2 + y**2/9, 1) Ellipse  = 13.36489322056\n"
     ]
    }
   ],
   "source": [
    "import sympy as sp \n",
    "\n",
    "x = sp.symbols('x')\n",
    "y = sp.symbols('y')\n",
    "\n",
    "ellipse_eq = sp.Eq(x**2 + y**2 / 9, 1)\n",
    "\n",
    "f = sp.solve(ellipse_eq, y)\n",
    "f_y = sp.lambdify(x, f[1], 'numpy')\n",
    "\n",
    "def Area(f,initial):\n",
    "    [a,b] = initial\n",
    "    return sp.integrate(f, (x, a, b))\n",
    "\n",
    "\n",
    "def Arc_length(f,initial):\n",
    "    [a,b] = initial\n",
    "    return sp.integrate(sp.sqrt(1 + sp.diff(f)**2), (x, a, b))\n",
    "\n",
    "a ,b = -1, 1\n",
    "initial = [a,b]\n",
    "\n",
    "ans_area = 2 * round(Area(f[1],initial),12)\n",
    "ans_arc_length = 2 * round(Arc_length(f[1],initial),12)\n",
    "\n",
    "print(f\"Area of  {ellipse_eq} Ellipse  = {ans_area} \")\n",
    "print(f\"Arc Length of  {ellipse_eq} Ellipse  = {ans_arc_length}\")\n"
   ]
  },
  {
   "cell_type": "code",
   "execution_count": 14,
   "metadata": {},
   "outputs": [
    {
     "name": "stdout",
     "output_type": "stream",
     "text": [
      "Area of Ellipse = 9.42477796076938\n",
      "Perimeter of Ellipse = 13.36489277982672\n"
     ]
    }
   ],
   "source": [
    "# Analytical Solution\n",
    "\n",
    "a = 1\n",
    "b = 3\n",
    "Area = np.pi * a * b\n",
    "\n",
    "print(f\"Area of Ellipse = {Area}\")\n",
    "\n",
    "h = (a-b)**2 / (a+b)**2\n",
    "permimeter = np.pi * (a+b) * (1 +  3 * h / (10 + np.sqrt(4 - 3 * h)))\n",
    "\n",
    "print(f\"Perimeter of Ellipse = {permimeter}\")"
   ]
  },
  {
   "cell_type": "code",
   "execution_count": null,
   "metadata": {},
   "outputs": [],
   "source": []
  },
  {
   "cell_type": "markdown",
   "metadata": {},
   "source": [
    "## Q4. Evaluate the following using composite Simpson’s rule:\n",
    "\n",
    "\n"
   ]
  },
  {
   "cell_type": "markdown",
   "metadata": {},
   "source": [
    "### ANS \n",
    "\n",
    "**Composit Simpsons rule**\n",
    "\n",
    "$$\\int_{a}^{b} f(x) dx \\approx \\frac{(b-a)}{3} \\bigg(f(a) + 4(\\sum_{i=1, i \\ odd}^{n-1} f(x_i)) + 2(\\sum_{i=2,i \\ even}^{n-2} f(x_i)) + f(b)\\bigg)$$\n"
   ]
  },
  {
   "cell_type": "code",
   "execution_count": 15,
   "metadata": {},
   "outputs": [],
   "source": [
    "\n",
    "\n",
    "def Composit_Simpson_rule(f,initial):\n",
    "    [a,b,n] = initial\n",
    "\n",
    "    # To handele the case when a = 0\n",
    "    if a == 0:\n",
    "        h = (b-a)/n\n",
    "        a = h\n",
    "        n = n-1\n",
    "\n",
    "    \n",
    "    try :\n",
    "        S1 = f(a)\n",
    "    except:\n",
    "        print(f\"Error at {b} but continuing\")\n",
    "    \n",
    "    S2 = 0\n",
    "    h = (b-a)/n\n",
    "    for i in range(1,n,2):\n",
    "        x = a + i*h\n",
    "        #print(f\"S2 n = {i} x = {x}\")\n",
    "        try :\n",
    "            S2 = S2 + f(x)\n",
    "        except:\n",
    "            print(f\"Error at {x} but continuing\")\n",
    "        \n",
    "    S2 = 4 * S2\n",
    "\n",
    "    S3 = 0\n",
    "    for i in range(2,n-1,2):\n",
    "        x = a + i*h\n",
    "        #print(f\"S3 n = {i} x = {x}\")\n",
    "        try :\n",
    "            S3 = S3 + f(x)\n",
    "        except:\n",
    "            print(f\"Error at {x} but continuing\")\n",
    "        \n",
    "    S3 = 2*S3\n",
    "\n",
    "   \n",
    "    try :\n",
    "        S4 = f(b)\n",
    "    except:\n",
    "        print(f\"Error at {b} but continuing\")\n",
    "    \n",
    "    \n",
    "    #print(S1)\n",
    "    #print(S4)\n",
    "\n",
    "    return h/3*(S1 + S2 + S3 + S4)\n",
    "\n",
    "def Composit_Simpson_rule(f, initial):\n",
    "    [a, b, n] = initial\n",
    "    \n",
    "    h = (b - a) / n\n",
    "    \n",
    "    try:\n",
    "        S1 = f(a)\n",
    "    except :\n",
    "        S1 = 0\n",
    "        print(f\"Error at a = {a} but continuing with S1 = 0\")\n",
    "    \n",
    "    try:\n",
    "        S4 = f(b)\n",
    "    except:\n",
    "        S4 = 0\n",
    "        print(f\"Error at b = {b} but continuing with S4 = 0\")\n",
    "    \n",
    "    S2 = 0\n",
    "    for i in range(1, n, 2):\n",
    "        x = a + i * h\n",
    "        try:\n",
    "            S2 += f(x)\n",
    "        except:\n",
    "            print(f\"Error at x = {x} (odd index) but continuing\")\n",
    "\n",
    "    S2 = S2 * 4\n",
    "    \n",
    "    # Sum of f(x) at even indices (multiplied by 2)\n",
    "    S3 = 0\n",
    "    for i in range(2, n - 1, 2):\n",
    "        x = a + i * h\n",
    "        try:\n",
    "            S3 += f(x)\n",
    "        except (ValueError, ZeroDivisionError, OverflowError):\n",
    "            print(f\"Error at x = {x} (even index) but continuing\")\n",
    "    \n",
    "    S3 = S3 * 2\n",
    "    \n",
    "    return h / 3 * (S1 + S2 + S3 + S4)\n",
    "\n",
    "\n"
   ]
  },
  {
   "cell_type": "markdown",
   "metadata": {},
   "source": [
    "\n",
    "### 1. $$ I_1 = \\int_0^1 x^x \\, dx \\approx 0.783430510712 $$\n"
   ]
  },
  {
   "cell_type": "code",
   "execution_count": 16,
   "metadata": {},
   "outputs": [
    {
     "name": "stdout",
     "output_type": "stream",
     "text": [
      "True Value : 0.783430510712\n",
      "Composit Simpson rule : 0.783430511483 ; with Truncation error : 7.710000415883655e-10\n"
     ]
    }
   ],
   "source": [
    "\n",
    "f = lambda x: pow(x,x) \n",
    "\n",
    "a ,b ,n = 0, 1, 10000\n",
    "initial = [a,b,n]\n",
    "\n",
    "ans_quad = round(quad(f, a, b)[0],12)\n",
    "print(f\"True Value : {ans_quad}\")\n",
    "\n",
    "\n",
    "ans_simpson = round( Composit_Simpson_rule(f,initial),12)\n",
    "\n",
    "print(f\"Composit Simpson rule : {ans_simpson} ; with Truncation error : {abs(ans_simpson - ans_quad)}\")"
   ]
  },
  {
   "cell_type": "markdown",
   "metadata": {},
   "source": [
    "\n",
    "### 2. $$ I_2 = \\int_0^{0.983} x^x dx \\approx 0.766573383391 $$\n"
   ]
  },
  {
   "cell_type": "code",
   "execution_count": 17,
   "metadata": {},
   "outputs": [
    {
     "name": "stdout",
     "output_type": "stream",
     "text": [
      "True Value : 0.766573383391\n",
      "Composit Simpson rule : 0.766573384136 ; with Truncation error : 7.449999506192739e-10\n"
     ]
    }
   ],
   "source": [
    "\n",
    "f = lambda x: pow(x,x) \n",
    "\n",
    "a ,b ,n = 0, 0.983, 10000\n",
    "initial = [a,b,n]\n",
    "\n",
    "ans_quad = round(quad(f, a, b)[0],12)\n",
    "print(f\"True Value : {ans_quad}\")\n",
    "\n",
    "\n",
    "ans_simpson = round( Composit_Simpson_rule(f,initial),12)\n",
    "\n",
    "print(f\"Composit Simpson rule : {ans_simpson} ; with Truncation error : {abs(ans_simpson - ans_quad)}\")"
   ]
  },
  {
   "cell_type": "markdown",
   "metadata": {},
   "source": [
    "### 3.  To see the inaccuracies of the abscissas ( $ a_j $ ), perform integration with (I) $ a_j = a_0 +jh $, and (II) $ a_j = a_{j-2} + 2h $ , and compare with the exact values."
   ]
  },
  {
   "cell_type": "code",
   "execution_count": 18,
   "metadata": {},
   "outputs": [],
   "source": [
    "\n",
    "def Composit_Simpson_rule_jh(f, initial):\n",
    "    [a, b, n] = initial\n",
    "    \n",
    "    h = (b - a) / n\n",
    "\n",
    "    x = np.arange(a, b, h)\n",
    "    \n",
    "    try:\n",
    "        S1 = f(x[0])\n",
    "    except :\n",
    "        S1 = 0\n",
    "        print(f\"Error at a = {a} but continuing with S1 = 0\")\n",
    "    \n",
    "    try:\n",
    "        S4 = f(x[-1])\n",
    "    except:\n",
    "        S4 = 0\n",
    "        print(f\"Error at b = {b} but continuing with S4 = 0\")\n",
    "    \n",
    "    S2 = 0\n",
    "    for i in range(1, len(x), 2):\n",
    "        try:\n",
    "            S2 += f(x[i])\n",
    "        except:\n",
    "            print(f\"Error at x = {x} (odd index) but continuing\")\n",
    "\n",
    "    S2 = S2 * 4\n",
    "    \n",
    "    S3 = 0\n",
    "    for i in range(2, len(x) - 1, 2):\n",
    "        try:\n",
    "            S3 += f(x[i])\n",
    "        except (ValueError, ZeroDivisionError, OverflowError):\n",
    "            print(f\"Error at x = {x} (even index) but continuing\")\n",
    "    \n",
    "    S3 = S3 * 2\n",
    "    \n",
    "    return h / 3 * (S1 + S2 + S3 + S4)\n",
    "\n",
    "\n",
    "def Composit_Simpson_rule_2h(f, initial):\n",
    "    [a, b, n] = initial\n",
    "    \n",
    "    h = (b - a) / n\n",
    "\n",
    "    x = np.arange(a, b, 2*h)\n",
    "    \n",
    "    try:\n",
    "        S1 = f(x[0])\n",
    "    except :\n",
    "        S1 = 0\n",
    "        print(f\"Error at a = {a} but continuing with S1 = 0\")\n",
    "    \n",
    "    try:\n",
    "        S4 = f(x[-1])\n",
    "    except:\n",
    "        S4 = 0\n",
    "        print(f\"Error at b = {b} but continuing with S4 = 0\")\n",
    "    \n",
    "    S2 = 0\n",
    "    for i in range(1, len(x), 2):\n",
    "        try:\n",
    "            S2 += f(x[i])\n",
    "        except:\n",
    "            print(f\"Error at x = {x} (odd index) but continuing\")\n",
    "\n",
    "    S2 = S2 * 4\n",
    "    \n",
    "    S3 = 0\n",
    "    for i in range(2, len(x) - 1, 2):\n",
    "        try:\n",
    "            S3 += f(x[i])\n",
    "        except (ValueError, ZeroDivisionError, OverflowError):\n",
    "            print(f\"Error at x = {x} (even index) but continuing\")\n",
    "    \n",
    "    S3 = S3 * 2\n",
    "    \n",
    "    return h / 3 * (S1 + S2 + S3 + S4)\n"
   ]
  },
  {
   "cell_type": "code",
   "execution_count": 19,
   "metadata": {},
   "outputs": [
    {
     "name": "stdout",
     "output_type": "stream",
     "text": [
      "True Value : 0.783430510712\n",
      "Composit Simpson rule : 0.783438389761 ; with Truncation error : 7.879049000014682e-06\n",
      "Composit Simpson rule edited absissa jh : 0.783405388106 ; with Truncation error : 2.5122605999960967e-05\n",
      "Composit Simpson rule edited absissa 2h : 0.391665908231 ; with Truncation error : 0.391764602481\n"
     ]
    }
   ],
   "source": [
    "\n",
    "f = lambda x: pow(x,x) \n",
    "\n",
    "a ,b ,n = 0, 1, 100\n",
    "initial = [a,b,n]\n",
    "\n",
    "ans_quad = round(quad(f, a, b)[0],12)\n",
    "print(f\"True Value : {ans_quad}\")\n",
    "\n",
    "\n",
    "ans_simpson = round( Composit_Simpson_rule(f,initial),12)\n",
    "ans_simpson_jh = round( Composit_Simpson_rule_jh(f,initial),12)\n",
    "ans_simpson_2h = round( Composit_Simpson_rule_2h(f,initial),12)\n",
    "\n",
    "\n",
    "\n",
    "print(f\"Composit Simpson rule : {ans_simpson} ; with Truncation error : {abs(ans_simpson - ans_quad)}\")\n",
    "print(f\"Composit Simpson rule edited absissa jh : {ans_simpson_jh} ; with Truncation error : {abs(ans_simpson_jh - ans_quad)}\")\n",
    "print(f\"Composit Simpson rule edited absissa 2h : {ans_simpson_2h} ; with Truncation error : {abs(ans_simpson_2h - ans_quad)}\")\n"
   ]
  },
  {
   "cell_type": "code",
   "execution_count": 20,
   "metadata": {},
   "outputs": [
    {
     "name": "stdout",
     "output_type": "stream",
     "text": [
      "True Value : 0.766573383391\n",
      "Composit Simpson rule : 0.766580994567 ; with Truncation error : 7.611176000010822e-06\n",
      "Composit Simpson rule edited absissa jh : 0.76655017356 ; with Truncation error : 2.3209831000015058e-05\n",
      "Composit Simpson rule edited absissa 2h : 0.38324111123 ; with Truncation error : 0.383332272161\n"
     ]
    }
   ],
   "source": [
    "\n",
    "f = lambda x: pow(x,x) \n",
    "\n",
    "a ,b ,n = 0, 0.983, 100\n",
    "initial = [a,b,n]\n",
    "\n",
    "ans_quad = round(quad(f, a, b)[0],12)\n",
    "print(f\"True Value : {ans_quad}\")\n",
    "\n",
    "\n",
    "ans_simpson = round( Composit_Simpson_rule(f,initial),12)\n",
    "ans_simpson_jh = round( Composit_Simpson_rule_jh(f,initial),12)\n",
    "ans_simpson_2h = round( Composit_Simpson_rule_2h(f,initial),12)\n",
    "\n",
    "\n",
    "\n",
    "print(f\"Composit Simpson rule : {ans_simpson} ; with Truncation error : {abs(ans_simpson - ans_quad)}\")\n",
    "print(f\"Composit Simpson rule edited absissa jh : {ans_simpson_jh} ; with Truncation error : {abs(ans_simpson_jh - ans_quad)}\")\n",
    "print(f\"Composit Simpson rule edited absissa 2h : {ans_simpson_2h} ; with Truncation error : {abs(ans_simpson_2h - ans_quad)}\")\n"
   ]
  },
  {
   "cell_type": "code",
   "execution_count": 21,
   "metadata": {},
   "outputs": [
    {
     "data": {
      "image/png": "[encoded data removed]",
      "text/plain": [
       "<Figure size 640x480 with 1 Axes>"
      ]
     },
     "metadata": {},
     "output_type": "display_data"
    }
   ],
   "source": [
    "x = sp.symbols('x')\n",
    "f_expr = x**x\n",
    "f_latex = sp.latex(f_expr)\n",
    "\n",
    "plt.title(f'Convergence rate of ${f_latex}$ using Composit Simpson rule')\n",
    "\n",
    "intervals, errors = convergence_rate(f,initial, Composit_Simpson_rule, ans_quad, max_n=100)\n",
    "plot_convergence(intervals, errors,\"Composit Simpson rule\")\n",
    "\n",
    "intervals, errors = convergence_rate(f,initial, Composit_Simpson_rule_jh, ans_quad, max_n=100)\n",
    "plot_convergence(intervals, errors,\"a_j = a_0 +jh\")\n",
    "\n",
    "intervals, errors = convergence_rate(f,initial, Composit_Simpson_rule_2h, ans_quad, max_n=100)\n",
    "plot_convergence(intervals, errors,\"a_j = a_{j-2} + 2h\")\n",
    "\n",
    "\n",
    "plt.xlabel('n [Intervals]')\n",
    "plt.ylabel('Absolute Error')\n",
    "plt.legend()\n",
    "plt.show()\n"
   ]
  },
  {
   "cell_type": "markdown",
   "metadata": {},
   "source": [
    "## Q 5. Derive quadrature formulas of the form $ \\int_0^1 \\sqrt{x} f(x) \\, dx \\approx \\sum_{i=0}^{n} w_i \\, f\\left(\\frac{i}{n}\\right)  $ , which are exact for all polynomials of degree less than or equal to n (use n=2,4,8). Use these formula to evaluate the following integrals.\n",
    "\n",
    "\n",
    "\n",
    "\n"
   ]
  },
  {
   "cell_type": "code",
   "execution_count": 43,
   "metadata": {},
   "outputs": [],
   "source": [
    "import sympy as sp\n",
    "\n",
    "def weights_fn(n):\n",
    " \n",
    "    weight_symb = sp.symbols(f'w0:{n+1}')\n",
    "    \n",
    "    equations = []\n",
    "    \n",
    "    for k in range(n+1):\n",
    "        \n",
    "        integral_value = 1 / (k + 3/2)\n",
    "        \n",
    "        equation = sp.Sum(weight_symb[i] * (i/n)**k for i in range(n+1))\n",
    "        equations.append(sp.Eq(equation, integral_value))\n",
    "    \n",
    "    solutions = list(sp.solve(equations, weight_symb).values())\n",
    "    \n",
    "    return solutions\n",
    "\n",
    "def quadrature_approximation(weights, f, n):\n",
    "    quadrature_sum = sum(weights[i] * f(i/n) for i in range(n+1))\n",
    "    return quadrature_sum\n"
   ]
  },
  {
   "cell_type": "code",
   "execution_count": 60,
   "metadata": {},
   "outputs": [
    {
     "name": "stdout",
     "output_type": "stream",
     "text": [
      "Roots (xi): [-0.57735027  0.57735027]\n",
      "Weights (wi): [1. 1.]\n"
     ]
    }
   ],
   "source": [
    "import numpy as np\n",
    "\n",
    "# Specify the number of points (n)\n",
    "n = 2  # Example: 4-point Gaussian quadrature\n",
    "\n",
    "# Get the roots (xi) and weights (wi) using numpy's leggauss function\n",
    "roots, weights = np.polynomial.legendre.leggauss(n)\n",
    "\n",
    "# Print the results\n",
    "print(\"Roots (xi):\", roots)\n",
    "print(\"Weights (wi):\", weights)\n"
   ]
  },
  {
   "cell_type": "code",
   "execution_count": 61,
   "metadata": {},
   "outputs": [
    {
     "name": "stdout",
     "output_type": "stream",
     "text": [
      "Roots (xi): [-0.99823771 -0.99072624 -0.97725995 -0.95791682 -0.93281281 -0.90209881\n",
      " -0.8659595  -0.82461223 -0.77830565 -0.72731826 -0.67195668 -0.61255389\n",
      " -0.54946713 -0.4830758  -0.4137792  -0.34199409 -0.26815219 -0.19269758\n",
      " -0.11608407 -0.03877242  0.03877242  0.11608407  0.19269758  0.26815219\n",
      "  0.34199409  0.4137792   0.4830758   0.54946713  0.61255389  0.67195668\n",
      "  0.72731826  0.77830565  0.82461223  0.8659595   0.90209881  0.93281281\n",
      "  0.95791682  0.97725995  0.99072624  0.99823771]\n",
      "Weights (wi): [0.00452128 0.01049828 0.01642106 0.02224585 0.02793701 0.0334602\n",
      " 0.03878217 0.04387091 0.04869581 0.05322785 0.05743977 0.06130624\n",
      " 0.06480401 0.06791205 0.07061165 0.07288658 0.07472317 0.07611036\n",
      " 0.07703982 0.07750595 0.07750595 0.07703982 0.07611036 0.07472317\n",
      " 0.07288658 0.07061165 0.06791205 0.06480401 0.06130624 0.05743977\n",
      " 0.05322785 0.04869581 0.04387091 0.03878217 0.0334602  0.02793701\n",
      " 0.02224585 0.01642106 0.01049828 0.00452128]\n",
      "0.3642219312753443\n"
     ]
    }
   ],
   "source": [
    "def fn(x):\n",
    "    return np.sqrt(x) * np.sin(x)\n",
    "\n",
    "def gaussfn(fn,x):\n",
    "    a = 0\n",
    "    b = 1\n",
    "\n",
    "    return (b-a)/2* fn( ( b-a)/2*x+(b+a)/2 ) \n",
    "\n",
    "\n",
    "\n",
    "n = 40  # Example: 4-point Gaussian quadrature\n",
    "\n",
    "# Get the roots (xi) and weights (wi) using numpy's leggauss function\n",
    "roots, weights = np.polynomial.legendre.leggauss(n)\n",
    "\n",
    "print(\"Roots (xi):\", roots)\n",
    "print(\"Weights (wi):\", weights)\n",
    "\n",
    "a = 0\n",
    "b = 1\n",
    "\n",
    "sum = 0\n",
    "for i in range(n):\n",
    "    sum = sum + weights[i] * gaussfn(fn,roots[i])\n",
    "print(sum)\n"
   ]
  },
  {
   "cell_type": "markdown",
   "metadata": {},
   "source": [
    "1. $$ I_1 = \\int_0^1 \\sqrt{x}  \\sin(x) \\, dx \\approx 0.364221932032 $$\n"
   ]
  },
  {
   "cell_type": "code",
   "execution_count": 62,
   "metadata": {},
   "outputs": [
    {
     "name": "stdout",
     "output_type": "stream",
     "text": [
      " Integral analytically sqrt(x)*sin(x)  =  0.364221932032132\n"
     ]
    }
   ],
   "source": [
    "\n",
    "x = sp.symbols('x')\n",
    "\n",
    "f_exp = sp.sqrt(x) * sp.sin(x)\n",
    "\n",
    "integral_result = sp.integrate(f_exp, (x, 0, 1)).evalf()\n",
    "\n",
    "print(f\" Integral analytically {f_exp}  = \", integral_result)\n",
    "\n",
    "def f(x):\n",
    "    return sp.sin(x)\n",
    "\n",
    "#integral = quadrature_approximation(weights_fn(2), f, 2)\n",
    "#print(f\"Integral of {f_exp} approximated using  quadrature = {integral}; and Truncation error ={integral - integral_result } \")\n",
    "\n",
    "\n"
   ]
  },
  {
   "cell_type": "markdown",
   "metadata": {},
   "source": [
    "\n",
    "2. $$ I_2 = \\int_0^1 \\sqrt{x}  \\cos(x) \\, dx \\approx 0.531202683085 $$"
   ]
  },
  {
   "cell_type": "markdown",
   "metadata": {},
   "source": [
    "# THE END"
   ]
  }
 ],
 "metadata": {
  "kernelspec": {
   "display_name": "physics_env",
   "language": "python",
   "name": "python3"
  },
  "language_info": {
   "codemirror_mode": {
    "name": "ipython",
    "version": 3
   },
   "file_extension": ".py",
   "mimetype": "text/x-python",
   "name": "python",
   "nbconvert_exporter": "python",
   "pygments_lexer": "ipython3",
   "version": "3.10.15"
  }
 },
 "nbformat": 4,
 "nbformat_minor": 2
}
